{
 "cells": [
  {
   "cell_type": "code",
   "execution_count": 1,
   "metadata": {},
   "outputs": [],
   "source": [
    "import os\n",
    "import jwt\n",
    "import uuid\n",
    "import hashlib\n",
    "from urllib.parse import urlencode\n",
    "import requests"
   ]
  },
  {
   "cell_type": "code",
   "execution_count": 2,
   "metadata": {},
   "outputs": [],
   "source": [
    "os.environ['UPBIT_OPEN_API_SECRET_KEY']='b0vSekUq5hEVYC5ax5XxbyFSwmrp2Ga6jpRmlyaU'"
   ]
  },
  {
   "cell_type": "code",
   "execution_count": 3,
   "metadata": {},
   "outputs": [],
   "source": [
    "os.environ['UPBIT_OPEN_API_SERVER_URL']='https://api.upbit.com'"
   ]
  },
  {
   "cell_type": "code",
   "execution_count": 4,
   "metadata": {},
   "outputs": [],
   "source": [
    "access_key = os.environ['UPBIT_OPEN_API_ACCESS_KEY']\n",
    "secret_key = os.environ['UPBIT_OPEN_API_SECRET_KEY']\n",
    "server_url = os.environ['UPBIT_OPEN_API_SERVER_URL']"
   ]
  },
  {
   "cell_type": "code",
   "execution_count": 5,
   "metadata": {},
   "outputs": [],
   "source": [
    "payload = {\n",
    "    'access_key' : access_key,\n",
    "    'nonce' : str(uuid.uuid4())\n",
    "}"
   ]
  },
  {
   "cell_type": "code",
   "execution_count": 6,
   "metadata": {},
   "outputs": [],
   "source": [
    "jwt_token = jwt.encode(payload, secret_key).decode('utf-8')"
   ]
  },
  {
   "cell_type": "code",
   "execution_count": 7,
   "metadata": {},
   "outputs": [],
   "source": [
    "authorize_token = 'Bearer {}'.format(jwt_token)"
   ]
  },
  {
   "cell_type": "code",
   "execution_count": 8,
   "metadata": {},
   "outputs": [],
   "source": [
    "headers = {\"Authorization\": authorize_token}"
   ]
  },
  {
   "cell_type": "code",
   "execution_count": 9,
   "metadata": {},
   "outputs": [],
   "source": [
    "res = requests.get(server_url+\"/v1/accounts\", headers= headers)"
   ]
  },
  {
   "cell_type": "code",
   "execution_count": 10,
   "metadata": {},
   "outputs": [
    {
     "name": "stdout",
     "output_type": "stream",
     "text": [
      "[{'currency': 'KRW', 'balance': '0.00000006', 'locked': '0.0', 'avg_buy_price': '0', 'avg_buy_price_modified': True, 'unit_currency': 'KRW'}, {'currency': 'OBSR', 'balance': '63099.76324968', 'locked': '0.0', 'avg_buy_price': '7.92', 'avg_buy_price_modified': False, 'unit_currency': 'KRW'}]\n"
     ]
    }
   ],
   "source": [
    "print(res.json())"
   ]
  },
  {
   "cell_type": "markdown",
   "metadata": {},
   "source": [
    " 1. 마켓별 주문 가능 정보를 확인한다.  \n",
    " https://api.upbit.com/vi/order/change"
   ]
  },
  {
   "cell_type": "code",
   "execution_count": 11,
   "metadata": {},
   "outputs": [],
   "source": [
    "query = {\n",
    "    'market': 'KRW-ETH'\n",
    "}"
   ]
  },
  {
   "cell_type": "code",
   "execution_count": 12,
   "metadata": {},
   "outputs": [],
   "source": [
    "query_string = urlencode(query).encode()"
   ]
  },
  {
   "cell_type": "code",
   "execution_count": 13,
   "metadata": {},
   "outputs": [],
   "source": [
    "m = hashlib.sha512()\n",
    "m.update(query_string)\n",
    "query_hash = m.hexdigest()"
   ]
  },
  {
   "cell_type": "code",
   "execution_count": 14,
   "metadata": {},
   "outputs": [],
   "source": [
    "payload = {\n",
    "    'access_key': access_key,\n",
    "    'nonce': str(uuid.uuid4()),\n",
    "    'query_hash': query_hash,\n",
    "    'query_hash_alg': 'SHA512'\n",
    "}"
   ]
  },
  {
   "cell_type": "code",
   "execution_count": 15,
   "metadata": {},
   "outputs": [],
   "source": [
    "jwt_token = jwt.encode(payload, secret_key).decode('utf-8')"
   ]
  },
  {
   "cell_type": "code",
   "execution_count": 16,
   "metadata": {},
   "outputs": [],
   "source": [
    "authorize_token = 'Bearer {}'.format(jwt_token)\n",
    "headers = {\"Authorization\": authorize_token}"
   ]
  },
  {
   "cell_type": "code",
   "execution_count": 17,
   "metadata": {},
   "outputs": [],
   "source": [
    "res = requests.get(server_url + \"/v1/orders/chance\", params=query, headers=headers)"
   ]
  },
  {
   "cell_type": "code",
   "execution_count": 18,
   "metadata": {},
   "outputs": [
    {
     "name": "stdout",
     "output_type": "stream",
     "text": [
      "{'bid_fee': '0.0005', 'ask_fee': '0.0005', 'maker_bid_fee': '0.0005', 'maker_ask_fee': '0.0005', 'market': {'id': 'KRW-ETH', 'name': 'ETH/KRW', 'order_types': [], 'order_sides': ['ask', 'bid'], 'bid': {'currency': 'KRW', 'price_unit': None, 'min_total': 500}, 'ask': {'currency': 'ETH', 'price_unit': None, 'min_total': 500}, 'max_total': '1000000000.0', 'state': 'active'}, 'bid_account': {'currency': 'KRW', 'balance': '0.00000006', 'locked': '0.0', 'avg_buy_price': '0', 'avg_buy_price_modified': True, 'unit_currency': 'KRW'}, 'ask_account': {'currency': 'ETH', 'balance': '0.0', 'locked': '0.0', 'avg_buy_price': '0', 'avg_buy_price_modified': False, 'unit_currency': 'KRW'}}\n"
     ]
    }
   ],
   "source": [
    "print(res.json())"
   ]
  },
  {
   "cell_type": "markdown",
   "metadata": {},
   "source": [
    "1. 마켓 코드 조회"
   ]
  },
  {
   "cell_type": "code",
   "execution_count": 37,
   "metadata": {},
   "outputs": [],
   "source": [
    "url = server_url + \"/v1/market/all\"\n",
    "querystring = {\"isDetail\": \"true\"}"
   ]
  },
  {
   "cell_type": "code",
   "execution_count": 38,
   "metadata": {},
   "outputs": [],
   "source": [
    "response = requests.request(\"GET\", url, params=querystring)"
   ]
  },
  {
   "cell_type": "code",
   "execution_count": 79,
   "metadata": {},
   "outputs": [
    {
     "name": "stdout",
     "output_type": "stream",
     "text": [
      "1. KRW-BTC\n",
      "2. KRW-ETH\n",
      "3. BTC-ETH\n",
      "4. BTC-LTC\n",
      "5. BTC-XRP\n",
      "6. BTC-ETC\n",
      "7. BTC-OMG\n",
      "8. BTC-CVC\n",
      "9. BTC-DGB\n",
      "10. BTC-PAY\n",
      "11. BTC-SC\n",
      "12. BTC-SNT\n",
      "13. BTC-WAVES\n",
      "14. BTC-NMR\n",
      "15. BTC-XEM\n",
      "16. BTC-LBC\n",
      "17. BTC-QTUM\n",
      "18. BTC-NXT\n",
      "19. BTC-BAT\n",
      "20. BTC-LSK\n",
      "21. BTC-RDD\n",
      "22. BTC-STEEM\n",
      "23. BTC-DCR\n",
      "24. BTC-DOGE\n",
      "25. BTC-BNT\n",
      "26. BTC-XLM\n",
      "27. BTC-ARDR\n",
      "28. BTC-KMD\n",
      "29. BTC-ARK\n",
      "30. BTC-ADX\n",
      "31. BTC-SYS\n",
      "32. BTC-ANT\n",
      "33. BTC-STORJ\n",
      "34. BTC-GRS\n",
      "35. BTC-REP\n",
      "36. BTC-RLC\n",
      "37. BTC-EMC2\n",
      "38. USDT-BTC\n",
      "39. USDT-ETH\n",
      "40. USDT-LTC\n",
      "41. USDT-XRP\n",
      "42. USDT-ETC\n",
      "43. KRW-NEO\n",
      "44. KRW-MTL\n",
      "45. KRW-LTC\n",
      "46. KRW-XRP\n",
      "47. KRW-ETC\n",
      "48. KRW-OMG\n",
      "49. KRW-SNT\n",
      "50. KRW-WAVES\n",
      "51. KRW-XEM\n",
      "52. KRW-QTUM\n",
      "53. KRW-LSK\n",
      "54. KRW-STEEM\n",
      "55. KRW-XLM\n",
      "56. KRW-ARDR\n",
      "57. KRW-KMD\n",
      "58. KRW-ARK\n",
      "59. KRW-STORJ\n",
      "60. KRW-GRS\n",
      "61. KRW-REP\n",
      "62. KRW-EMC2\n",
      "63. KRW-ADA\n",
      "64. BTC-ADA\n",
      "65. BTC-MANA\n",
      "66. USDT-OMG\n",
      "67. KRW-SBD\n",
      "68. BTC-SBD\n",
      "69. BTC-RCN\n",
      "70. BTC-VIB\n",
      "71. KRW-POWR\n",
      "72. BTC-POWR\n",
      "73. KRW-BTG\n",
      "74. USDT-ADA\n",
      "75. BTC-DNT\n",
      "76. BTC-IGNIS\n",
      "77. BTC-SRN\n",
      "78. BTC-ZRX\n",
      "79. BTC-TRX\n",
      "80. BTC-TUSD\n",
      "81. BTC-LRC\n",
      "82. KRW-ICX\n",
      "83. KRW-EOS\n",
      "84. BTC-DMT\n",
      "85. USDT-TUSD\n",
      "86. KRW-TRX\n",
      "87. BTC-POLY\n",
      "88. BTC-PRO\n",
      "89. USDT-SC\n",
      "90. USDT-TRX\n",
      "91. KRW-SC\n",
      "92. KRW-GTO\n",
      "93. KRW-IGNIS\n",
      "94. KRW-ONT\n",
      "95. KRW-DCR\n",
      "96. KRW-ZIL\n",
      "97. BTC-GTO\n",
      "98. USDT-DCR\n",
      "99. KRW-POLY\n",
      "100. KRW-ZRX\n",
      "101. KRW-SRN\n",
      "102. KRW-LOOM\n",
      "103. BTC-BCH\n",
      "104. USDT-BCH\n",
      "105. KRW-BCH\n",
      "106. BTC-MFT\n",
      "107. BTC-LOOM\n",
      "108. KRW-ADX\n",
      "109. KRW-BAT\n",
      "110. KRW-IOST\n",
      "111. BTC-RFR\n",
      "112. KRW-DMT\n",
      "113. KRW-RFR\n",
      "114. USDT-DGB\n",
      "115. KRW-CVC\n",
      "116. KRW-IQ\n",
      "117. KRW-IOTA\n",
      "118. KRW-OST\n",
      "119. BTC-RVN\n",
      "120. BTC-BFT\n",
      "121. BTC-GO\n",
      "122. BTC-UPP\n",
      "123. BTC-ENJ\n",
      "124. KRW-MFT\n",
      "125. BTC-DTA\n",
      "126. BTC-EDR\n",
      "127. KRW-ONG\n",
      "128. KRW-GAS\n",
      "129. BTC-MTL\n",
      "130. KRW-UPP\n",
      "131. KRW-ELF\n",
      "132. BTC-PMA\n",
      "133. USDT-DOGE\n",
      "134. USDT-ZRX\n",
      "135. USDT-RVN\n",
      "136. USDT-BAT\n",
      "137. KRW-KNC\n",
      "138. BTC-PAX\n",
      "139. BTC-MOC\n",
      "140. BTC-NPXS\n",
      "141. BTC-ZIL\n",
      "142. BTC-OST\n",
      "143. KRW-BSV\n",
      "144. BTC-BSV\n",
      "145. BTC-IOST\n",
      "146. KRW-THETA\n",
      "147. BTC-NCASH\n",
      "148. KRW-EDR\n",
      "149. BTC-DENT\n",
      "150. KRW-QKC\n",
      "151. BTC-BTM\n",
      "152. BTC-ELF\n",
      "153. KRW-BTT\n",
      "154. BTC-BTT\n",
      "155. BTC-VITE\n",
      "156. BTC-IOTX\n",
      "157. BTC-SOLVE\n",
      "158. BTC-NKN\n",
      "159. BTC-QNT\n",
      "160. BTC-CTXC\n",
      "161. BTC-SPND\n",
      "162. BTC-META\n",
      "163. KRW-MOC\n",
      "164. BTC-ANKR\n",
      "165. BTC-CRO\n",
      "166. KRW-ENJ\n",
      "167. KRW-TFUEL\n",
      "168. BTC-BTS\n",
      "169. BTC-FSN\n",
      "170. KRW-MANA\n",
      "171. KRW-ANKR\n",
      "172. BTC-ORBS\n",
      "173. KRW-NPXS\n",
      "174. BTC-AERGO\n",
      "175. BTC-PI\n",
      "176. KRW-AERGO\n",
      "177. KRW-ATOM\n",
      "178. KRW-TT\n",
      "179. KRW-CRE\n",
      "180. KRW-SOLVE\n",
      "181. BTC-ATOM\n",
      "182. BTC-STPT\n",
      "183. KRW-MBL\n",
      "184. BTC-LAMB\n",
      "185. BTC-EOS\n",
      "186. BTC-LUNA\n",
      "187. BTC-DAI\n",
      "188. BTC-MKR\n",
      "189. BTC-BORA\n",
      "190. KRW-TSHP\n",
      "191. BTC-TSHP\n",
      "192. KRW-WAXP\n",
      "193. BTC-WAXP\n",
      "194. KRW-HBAR\n",
      "195. KRW-MED\n",
      "196. BTC-MED\n",
      "197. BTC-MLK\n",
      "198. KRW-MLK\n",
      "199. BTC-PXL\n",
      "200. KRW-STPT\n",
      "201. BTC-VET\n",
      "202. KRW-ORBS\n",
      "203. BTC-CHZ\n",
      "204. KRW-VET\n",
      "205. BTC-FX\n",
      "206. BTC-OGN\n",
      "207. KRW-CHZ\n",
      "208. KRW-PXL\n",
      "209. BTC-ITAM\n",
      "210. BTC-XTZ\n",
      "211. BTC-HIVE\n",
      "212. BTC-HBD\n",
      "213. BTC-OBSR\n",
      "214. BTC-DKA\n",
      "215. KRW-STMX\n",
      "216. BTC-STMX\n",
      "217. BTC-AHT\n",
      "218. BTC-PCI\n",
      "219. BTC-RINGX\n",
      "220. BTC-GOM2\n",
      "221. KRW-DKA\n",
      "222. BTC-LINK\n",
      "223. KRW-HIVE\n",
      "224. KRW-KAVA\n",
      "225. BTC-KAVA\n",
      "226. KRW-AHT\n",
      "227. KRW-SPND\n",
      "228. KRW-LINK\n",
      "229. KRW-XTZ\n",
      "230. KRW-BORA\n",
      "231. BTC-JST\n",
      "232. BTC-CHR\n",
      "233. BTC-DAD\n",
      "234. BTC-TON\n",
      "235. KRW-JST\n",
      "236. BTC-CTSI\n",
      "237. BTC-DOT\n",
      "238. KRW-CRO\n",
      "239. BTC-COMP\n",
      "240. BTC-SXP\n",
      "241. BTC-HUNT\n",
      "242. KRW-TON\n",
      "243. BTC-ONIT\n",
      "244. BTC-CRV\n",
      "245. BTC-ALGO\n",
      "246. BTC-RSR\n",
      "247. KRW-SXP\n",
      "248. BTC-OXT\n",
      "249. BTC-PLA\n",
      "250. KRW-LAMB\n",
      "251. KRW-HUNT\n",
      "252. BTC-MARO\n",
      "253. KRW-MARO\n",
      "254. BTC-SAND\n",
      "255. BTC-SUN\n",
      "256. KRW-PLA\n",
      "257. KRW-DOT\n",
      "258. BTC-SRM\n",
      "259. BTC-QTCON\n",
      "260. BTC-MVL\n",
      "261. KRW-SRM\n",
      "262. KRW-MVL\n",
      "263. BTC-GXC\n",
      "264. KRW-PCI\n",
      "265. BTC-AQT\n",
      "266. BTC-AXS\n",
      "267. BTC-STRAX\n",
      "268. KRW-STRAX\n",
      "269. KRW-AQT\n",
      "270. BTC-BCHA\n",
      "271. KRW-BCHA\n",
      "272. BTC-GLM\n",
      "273. KRW-GLM\n",
      "274. KRW-QTCON\n",
      "275. BTC-FCT2\n",
      "276. BTC-SSX\n",
      "277. KRW-SSX\n",
      "278. KRW-META\n",
      "279. KRW-OBSR\n",
      "280. KRW-FCT2\n",
      "281. BTC-FIL\n",
      "282. KRW-LBC\n",
      "283. BTC-UNI\n",
      "284. BTC-BASIC\n",
      "285. BTC-INJ\n",
      "286. BTC-PROM\n",
      "287. BTC-VAL\n",
      "288. BTC-PSG\n",
      "289. BTC-JUV\n",
      "290. BTC-CBK\n",
      "291. BTC-FOR\n",
      "292. KRW-CBK\n"
     ]
    }
   ],
   "source": [
    "result = response.json()\n",
    "i = 1\n",
    "for market_name in result:\n",
    "    #print(\"%d. %s \" % (i, market_name[\"market\"]))\n",
    "    #print(\"{}. {}\".format(i, market_name[\"market\"])) # 이게 더 권장됨\n",
    "    print(f'{i}. {market_name[\"market\"]}') # 3.6 버전부터 f-string 지원\n",
    "    i = i + 1"
   ]
  },
  {
   "cell_type": "code",
   "execution_count": null,
   "metadata": {},
   "outputs": [],
   "source": []
  }
 ],
 "metadata": {
  "kernelspec": {
   "display_name": "Python 3",
   "language": "python",
   "name": "python3"
  },
  "language_info": {
   "codemirror_mode": {
    "name": "ipython",
    "version": 3
   },
   "file_extension": ".py",
   "mimetype": "text/x-python",
   "name": "python",
   "nbconvert_exporter": "python",
   "pygments_lexer": "ipython3",
   "version": "3.8.5"
  }
 },
 "nbformat": 4,
 "nbformat_minor": 4
}
